{
 "cells": [
  {
   "cell_type": "code",
   "execution_count": 1,
   "id": "03fe3d92",
   "metadata": {},
   "outputs": [
    {
     "name": "stderr",
     "output_type": "stream",
     "text": [
      "C:\\Users\\vishw\\anaconda3\\lib\\site-packages\\scipy\\__init__.py:155: UserWarning: A NumPy version >=1.18.5 and <1.25.0 is required for this version of SciPy (detected version 1.26.4\n",
      "  warnings.warn(f\"A NumPy version >={np_minversion} and <{np_maxversion}\"\n"
     ]
    }
   ],
   "source": [
    "import pandas as pd\n",
    "import numpy as np\n",
    "import matplotlib.pyplot as plt\n",
    "import seaborn as sns\n",
    "from sklearn.model_selection import train_test_split\n",
    "from sklearn.feature_extraction.text import TfidfVectorizer\n",
    "from sklearn.linear_model import LogisticRegression\n",
    "from sklearn.metrics import accuracy_score"
   ]
  },
  {
   "cell_type": "code",
   "execution_count": 2,
   "id": "7b5cd035",
   "metadata": {},
   "outputs": [],
   "source": [
    "df=pd.read_csv('E:/practice/emails.csv')"
   ]
  },
  {
   "cell_type": "code",
   "execution_count": 3,
   "id": "b7bfee7e",
   "metadata": {},
   "outputs": [
    {
     "name": "stdout",
     "output_type": "stream",
     "text": [
      "                                                   text  spam\n",
      "0     Subject: naturally irresistible your corporate...     1\n",
      "1     Subject: the stock trading gunslinger  fanny i...     1\n",
      "2     Subject: unbelievable new homes made easy  im ...     1\n",
      "3     Subject: 4 color printing special  request add...     1\n",
      "4     Subject: do not have money , get software cds ...     1\n",
      "...                                                 ...   ...\n",
      "5723  Subject: re : research and development charges...     0\n",
      "5724  Subject: re : receipts from visit  jim ,  than...     0\n",
      "5725  Subject: re : enron case study update  wow ! a...     0\n",
      "5726  Subject: re : interest  david ,  please , call...     0\n",
      "5727  Subject: news : aurora 5 . 2 update  aurora ve...     0\n",
      "\n",
      "[5728 rows x 2 columns]\n"
     ]
    }
   ],
   "source": [
    "print(df)"
   ]
  },
  {
   "cell_type": "markdown",
   "id": "3530b26b",
   "metadata": {},
   "source": [
    "## Removing null values"
   ]
  },
  {
   "cell_type": "code",
   "execution_count": 4,
   "id": "c334da16",
   "metadata": {},
   "outputs": [],
   "source": [
    "mail_data=df.where((pd.notnull(df)),'')"
   ]
  },
  {
   "cell_type": "code",
   "execution_count": 5,
   "id": "5fa1239f",
   "metadata": {},
   "outputs": [
    {
     "name": "stdout",
     "output_type": "stream",
     "text": [
      "                                                text  spam\n",
      "0  Subject: naturally irresistible your corporate...     1\n",
      "1  Subject: the stock trading gunslinger  fanny i...     1\n",
      "2  Subject: unbelievable new homes made easy  im ...     1\n",
      "3  Subject: 4 color printing special  request add...     1\n",
      "4  Subject: do not have money , get software cds ...     1\n"
     ]
    }
   ],
   "source": [
    "print(mail_data.head())"
   ]
  },
  {
   "cell_type": "markdown",
   "id": "712c24d8",
   "metadata": {},
   "source": [
    "## Encoding text values"
   ]
  },
  {
   "cell_type": "code",
   "execution_count": 6,
   "id": "8cae2878",
   "metadata": {},
   "outputs": [],
   "source": [
    "#label\n",
    "#spam=1\n",
    "#ham=0\n"
   ]
  },
  {
   "cell_type": "markdown",
   "id": "6b3ed0f0",
   "metadata": {},
   "source": [
    "## Seperating text and labels"
   ]
  },
  {
   "cell_type": "code",
   "execution_count": 7,
   "id": "047eb88a",
   "metadata": {},
   "outputs": [],
   "source": [
    "x=mail_data['text']\n",
    "y=mail_data['spam']"
   ]
  },
  {
   "cell_type": "code",
   "execution_count": 8,
   "id": "57263bcb",
   "metadata": {},
   "outputs": [
    {
     "name": "stdout",
     "output_type": "stream",
     "text": [
      "0       Subject: naturally irresistible your corporate...\n",
      "1       Subject: the stock trading gunslinger  fanny i...\n",
      "2       Subject: unbelievable new homes made easy  im ...\n",
      "3       Subject: 4 color printing special  request add...\n",
      "4       Subject: do not have money , get software cds ...\n",
      "                              ...                        \n",
      "5723    Subject: re : research and development charges...\n",
      "5724    Subject: re : receipts from visit  jim ,  than...\n",
      "5725    Subject: re : enron case study update  wow ! a...\n",
      "5726    Subject: re : interest  david ,  please , call...\n",
      "5727    Subject: news : aurora 5 . 2 update  aurora ve...\n",
      "Name: text, Length: 5728, dtype: object\n"
     ]
    }
   ],
   "source": [
    "print(x)"
   ]
  },
  {
   "cell_type": "code",
   "execution_count": 9,
   "id": "5dd69e84",
   "metadata": {},
   "outputs": [
    {
     "name": "stdout",
     "output_type": "stream",
     "text": [
      "0       1\n",
      "1       1\n",
      "2       1\n",
      "3       1\n",
      "4       1\n",
      "       ..\n",
      "5723    0\n",
      "5724    0\n",
      "5725    0\n",
      "5726    0\n",
      "5727    0\n",
      "Name: spam, Length: 5728, dtype: int64\n"
     ]
    }
   ],
   "source": [
    "print(y)"
   ]
  },
  {
   "cell_type": "markdown",
   "id": "45032088",
   "metadata": {},
   "source": [
    "## splitting  the data into training data and test data"
   ]
  },
  {
   "cell_type": "code",
   "execution_count": 10,
   "id": "97cfb354",
   "metadata": {},
   "outputs": [],
   "source": [
    "x_train,x_test,y_train,y_test=train_test_split(x,y,test_size=0.2,random_state=6)"
   ]
  },
  {
   "cell_type": "code",
   "execution_count": 11,
   "id": "fd3f1fac",
   "metadata": {},
   "outputs": [
    {
     "name": "stdout",
     "output_type": "stream",
     "text": [
      "(5728,)\n",
      "(1146,)\n",
      "(4582,)\n"
     ]
    }
   ],
   "source": [
    "print(x.shape)\n",
    "print(x_test.shape)\n",
    "print(x_train.shape)"
   ]
  },
  {
   "cell_type": "markdown",
   "id": "897e9a0b",
   "metadata": {},
   "source": [
    "# Feature Extraction\n",
    "### converting the text data into meaningful numerical values"
   ]
  },
  {
   "cell_type": "code",
   "execution_count": 15,
   "id": "797ed9e7",
   "metadata": {},
   "outputs": [],
   "source": [
    "# transform the text data into feature vectors that can be used as an input to logistic regression model\n",
    "# text data--------------->numerical values\n",
    "\n",
    "\n",
    "# specifying the function\n",
    "feature_extraction=TfidfVectorizer(min_df=1,stop_words='english',lowercase='True ')"
   ]
  },
  {
   "cell_type": "code",
   "execution_count": 17,
   "id": "6e8385ab",
   "metadata": {},
   "outputs": [],
   "source": [
    "# feature extraction on x_train data\n",
    "xtrainfeatures=feature_extraction.fit_transform(x_train)\n",
    "\n",
    "# no need to fit for the test data\n",
    "xtestfeatures=feature_extraction.transform(x_test)\n",
    "\n",
    "# converting y_train and y_test values into integers\n",
    "# because in the spam column,the 0's and 1's aren't considered as integers (considered as object ).thet's why\n",
    "y_train=y_train.astype('int')\n",
    "y_test=y_test.astype('int')"
   ]
  },
  {
   "cell_type": "code",
   "execution_count": 18,
   "id": "b35a078e",
   "metadata": {},
   "outputs": [
    {
     "name": "stdout",
     "output_type": "stream",
     "text": [
      "  (0, 29777)\t0.22265425280051765\n",
      "  (0, 26037)\t0.1486157919714039\n",
      "  (0, 31364)\t0.20292702850024014\n",
      "  (0, 29294)\t0.37121241734715393\n",
      "  (0, 7510)\t0.16906110429987345\n",
      "  (0, 26904)\t0.14918305788341485\n",
      "  (0, 23967)\t0.23988148631549075\n",
      "  (0, 5073)\t0.12973083509766364\n",
      "  (0, 32354)\t0.12172030973099203\n",
      "  (0, 11850)\t0.21291669869536686\n",
      "  (0, 29268)\t0.15263149509575735\n",
      "  (0, 30006)\t0.17943098309242866\n",
      "  (0, 14167)\t0.2639003052051949\n",
      "  (0, 828)\t0.09218049169968094\n",
      "  (0, 17474)\t0.17795339222238116\n",
      "  (0, 26823)\t0.40831727791272804\n",
      "  (0, 29221)\t0.4797629726309815\n",
      "  (0, 29037)\t0.04248758566514555\n",
      "  (1, 10895)\t0.14332209200727053\n",
      "  (1, 8121)\t0.15788089767682223\n",
      "  (1, 32870)\t0.15531650495844082\n",
      "  (1, 18580)\t0.07928491830158402\n",
      "  (1, 10886)\t0.12512539205757484\n",
      "  (1, 3691)\t0.2502828754322658\n",
      "  (1, 21476)\t0.13023645703865327\n",
      "  :\t:\n",
      "  (4580, 10895)\t0.06243857612641824\n",
      "  (4580, 828)\t0.032706677182529315\n",
      "  (4580, 29037)\t0.01507507416148644\n",
      "  (4581, 20765)\t0.35227425420608766\n",
      "  (4581, 7602)\t0.24604837286556586\n",
      "  (4581, 23478)\t0.25088589751716456\n",
      "  (4581, 24050)\t0.23504302333832916\n",
      "  (4581, 6244)\t0.515665993466071\n",
      "  (4581, 17540)\t0.26615034641200086\n",
      "  (4581, 22666)\t0.23247967920458695\n",
      "  (4581, 11325)\t0.19008547430817857\n",
      "  (4581, 5158)\t0.19291582483391928\n",
      "  (4581, 15205)\t0.12258596795223854\n",
      "  (4581, 10862)\t0.14961418153352835\n",
      "  (4581, 9058)\t0.125919019956373\n",
      "  (4581, 9731)\t0.13957612678519607\n",
      "  (4581, 17457)\t0.22354505974752392\n",
      "  (4581, 17849)\t0.09245415712451782\n",
      "  (4581, 28424)\t0.19773364208415792\n",
      "  (4581, 18441)\t0.1023525978018455\n",
      "  (4581, 18861)\t0.1188709939993735\n",
      "  (4581, 17489)\t0.11571738728976284\n",
      "  (4581, 14447)\t0.122095733720203\n",
      "  (4581, 30006)\t0.08928186635675248\n",
      "  (4581, 29037)\t0.04228222885255611\n"
     ]
    }
   ],
   "source": [
    "print(xtrainfeatures)"
   ]
  },
  {
   "cell_type": "markdown",
   "id": "82fd9807",
   "metadata": {},
   "source": [
    "# Logistic Regression"
   ]
  },
  {
   "cell_type": "code",
   "execution_count": 19,
   "id": "ba255354",
   "metadata": {},
   "outputs": [],
   "source": [
    "model=LogisticRegression()"
   ]
  },
  {
   "cell_type": "code",
   "execution_count": 20,
   "id": "e7235332",
   "metadata": {},
   "outputs": [
    {
     "data": {
      "text/plain": [
       "LogisticRegression()"
      ]
     },
     "execution_count": 20,
     "metadata": {},
     "output_type": "execute_result"
    }
   ],
   "source": [
    "# training the logistic regression model with the training data\n",
    "model.fit(xtrainfeatures,y_train)"
   ]
  },
  {
   "cell_type": "markdown",
   "id": "1e26ba54",
   "metadata": {},
   "source": [
    "# Evaluating the trained model"
   ]
  },
  {
   "cell_type": "code",
   "execution_count": 22,
   "id": "a6c803c5",
   "metadata": {},
   "outputs": [
    {
     "name": "stdout",
     "output_type": "stream",
     "text": [
      "Accuracy on training data = 0.9965080750763858\n"
     ]
    }
   ],
   "source": [
    "# prediction on training data\n",
    "\n",
    "prediction=model.predict(xtrainfeatures)\n",
    "accuracy_on_trainingdata=accuracy_score(y_train,prediction)\n",
    "print(\"Accuracy on training data =\",accuracy_on_trainingdata)"
   ]
  },
  {
   "cell_type": "code",
   "execution_count": 27,
   "id": "82e2fee6",
   "metadata": {},
   "outputs": [
    {
     "name": "stdout",
     "output_type": "stream",
     "text": [
      "Accuracy on testing data = 0.9764397905759162\n"
     ]
    }
   ],
   "source": [
    "# prediction on test data\n",
    "\n",
    "prediction=model.predict(xtestfeatures)\n",
    "accuracy_on_testdata=accuracy_score(y_test,prediction)\n",
    "print(\"Accuracy on testing data =\",accuracy_on_testdata)"
   ]
  },
  {
   "cell_type": "markdown",
   "id": "dbd73734",
   "metadata": {},
   "source": [
    "# Building a predictive system"
   ]
  },
  {
   "cell_type": "code",
   "execution_count": 26,
   "id": "254ea7de",
   "metadata": {},
   "outputs": [
    {
     "name": "stdout",
     "output_type": "stream",
     "text": [
      "Spam mail\n"
     ]
    }
   ],
   "source": [
    "input=[\"Subject: here ' s a hot play in motion  homeland security investments  the terror attacks on the united states on september 11 , 20 ol have  changed  the security landscape for the foreseeable future . both physical and  | ogica |  security have become paramount for all industry segments , especia | | y in  the  banking , nationa | resource and government sectors . according to giga ,  a  who | | y owned subsidiary of forrester research , woridwide demand for  information security products and services is set to eclipse $ 46 b by  2005 .  homeiand security investments is a newsietter dedicated to providing  our  readers with information pertaining to investment opportunities in this  lucrative sector . as we know , events related to homeland security  happen  with lightning speed . what we as investors can do is position  ourselves in  such a way as to take advantage of the current trends and be ready to  capitalize on events which have yet to happen . homeland security  investments is here to heip our readers do just that .  with this in mind , it is with great excitement that we present vinoble ,  inc .  this stock is expected to do big things in both the near and | ong  terms .  symbol : vnbl . ob  current price : o . 08  short term target price : o . 35  12 month target price : 1 . 20  * * * why we believe vnbl . ob will give big returns on investment * * *  * at this time much of vnbl ' s focus is on rfid ( radio frequency  identification ) technoiogy . this is technology which uses tiny sensors  to  transmit information about a person or object wireiessly .  * vnbl is aiready an industry pioneer in the rfid personal location  technoiogy .  * vnbl is developing a form of rfid technology which allows companies  and  governments to wirelessly track their assets and resources . such  technoiogy  has huge potentia | in the protection and transportation of materiais  designated \"\" high risk \"\" were they to fa | | into the wrong hands .  * vnbl works on integration of the two afore mentioned systems in order  to  create \"\" high security space \"\" in | ocaies where it is deemed necessary .  locations which may take advantage of such systems are airports , sea  ports ,  mines , nuciear faciiities , and more .  * as with a | | stocks , news drives the short term price . fresh news has  made vnbl a hot buy .  news on vnbl  malibu , calif . - - ( business wire ) - - june 16 , 2 oo 5 - - vinoble , inc .  ( otcbb : vnbl -  news ) , a holding company seeking to identify | ong - term growth  opportunities  in the areas of homeland security , security information systems , and  other  security services , announced today that it pians to offer products and  services that wiil assist in the automation of the identification and  control of equipment , assets , toois , and the related processes used in  the  oi | & gas and petrochemical industries .  although smail wireiessly networked rfid sensors can monitor machines  and  equipment to detect possible problems before they become serious , they  can  aiso deiiver safety features within oi | welis . oi | maybe trapped in  different | ayers of rock , aiong with gas and water . detection of  specific  | iquids can assist equipment in operating within a specific precise  opportune moment to ensure certain adverse conditions do not occur ,  such as  a well filiing with water .  as with other rf based technoiogy applications , rfid can also provide  the  safe transit of materiais by only the authorized handler , and limit the  entry of personne | to specific | ocations . ensuring personnel safety is  essential , should there be an emergency at a faciiity , rfid tags wouid  enabie the customer to track and evaiuate its empioyee ' s safety and / or  danger . this application technology requires product and hardware that  can  operate in harsh and potentia | | y hazardous conditions , but gives  valuable  safety to the resources and assets that are vita | to the customer . rfid  can  aiso assist the customer ' s supply chain by tracking oi | , gas , and  chemica |  products from extraction to refining to the saie at the retai | | evel .  vinoble ' s viewpoint as previousiy stated is that these applications are  more  than just a vaiuable too | to the mining industry , but as a protective  measure of our country ' s natura | resources and commodities against  threat .  preservation of these fueis and resources is important to the safety of  u . s .  industry and economy .  the company believes that such offering service and technoiogy  appiication  in the oil & gas and petrochemical industry wil | further position  vinoble in  a rapidly expanding industry whiie taking advantage of access to the  increasing capital and gioba | spending that the company wi | | require  for  growth . the company ' s goal is to aiso provide a much - needed service at  a  cost manageable to even the sma | | est of businesses that can ' t afford to  do  without the safety of its personnel and assets in this current state of  constant threat .  this is outstanding news . the growth potential for this company is  exceptional . in an already hot industry , vnbl . ob stands out as a truiy  innovative pioneer . we see big things happening to this stock .  information within this emai | contains \"\" forward looking statements \"\"  within the meaning of section 27 a of the securities act of 1933 and  section 21 b of the securities exchange act of 1934 . any statements that  express or involve discussions with respect to predictions ,  expectations , beliefs , pians , projections , objectives , goals ,  assumptions or  future  events or performance are not statements of historica | fact and may be  \"\" forward | ooking statements . \"\" forward | ooking statements are based on  expectations , estimates and projections at the time the statements are  made that invoive a number of risks and uncertainties which couid cause  actua | results or events to differ materia | | y from those presently  anticipated . forward looking statements in this action may be  identified  through the use of words such as \"\" projects \"\" , \"\" foresee \"\" , \"\" expects \"\" ,  \"\" wi | | , \"\" \"\" anticipates , \"\" \"\" estimates , \"\" \"\" beiieves , \"\" \"\" understands \"\" or  that by  statements indicating certain actions \"\" may , \"\" \"\" couid , \"\" or \"\" might \"\" occur .  as with many micro - cap stocks , today ' s company has additional risk  factors worth noting . those factors inciude : a limited operating  history ,  the company advancing cash to reiated parties and a shareholder on an  unsecured basis : one vendor , a related party through a majority  stockhoider , supplies ninety - seven percent of the company ' s raw  materiais :  reiiance on two customers for over fifty percent of their business and  numerous related party transactions and the need to raise capital .  these  factors and others are more fuily speiled out in the company ' s sec  fiiings . we urge you to read the filings before you invest . the rocket  stock  report does not represent that the information contained in this  message states ail materia | facts or does not omit a material fact  necessary  to make the statements therein not misleading . ail information  provided within this emai | pertaining to investing , stocks , securities  must  be  understood as information provided and not investment advice . the  rocket stock report advises all readers and subscribers to seek advice  from  a registered professiona | securities representative before deciding to  trade in stocks featured within this email . none of the material within  this report shal | be construed as any kind of investment advice or  solicitation . many of these companies are on the verge of bankruptcy .  you  can lose ail your money by investing in this stock . the publisher of  the rocket stock report is not a registered investment advisor .  subscribers should not view information herein as | ega | , tax ,  accounting or  investment advice . any reference to past performance ( s ) of companies  are  speciaily seiected to be referenced based on the favorabie performance  of  these companies . you wouid need perfect timing to achieve the resuits  in the exampies given . there can be no assurance of that happening .  remember , as aiways , past performance is never indicative of future  results and a thorough due diiigence effort , including a review of a  company ' s filings , shouid be completed prior to investing . in  compiiance  with the securities act of 1933 , section 17 ( b ) , the rocket stock report  discioses the receipt of tweive thousand doilars from a third party  ( gem , inc . ) , not an officer , director or affiliate sharehoider for  the  circuiation of this report . gem , inc . has a position in the stock  they  wil | se | | at any time without notice . be aware of an inherent confiict  of interest resuiting from such compensation due to the fact that this  is a paid advertisement and we are conflicted . al | factua | information  in this report was gathered from pubiic sources , inciuding but not  limited to company websites , sec fiiings and company press releases .  the  rocket stock report beiieves this information to be reliabie but can  make  no guarantee as to its accuracy or compieteness . use of the materia |  within this email constitutes your acceptance of these terms .\"]\n",
    "\n",
    "# feature extraction of input data\n",
    "fe_sample=feature_extraction.transform(input)\n",
    "\n",
    "#making predictions\n",
    "prediction=model.predict(fe_sample)\n",
    "if(prediction==1):\n",
    "    print(\"Spam mail\")\n",
    "else:\n",
    "    print(\"Ham mail\")"
   ]
  },
  {
   "cell_type": "code",
   "execution_count": null,
   "id": "95f58116",
   "metadata": {},
   "outputs": [],
   "source": []
  }
 ],
 "metadata": {
  "kernelspec": {
   "display_name": "Python 3 (ipykernel)",
   "language": "python",
   "name": "python3"
  },
  "language_info": {
   "codemirror_mode": {
    "name": "ipython",
    "version": 3
   },
   "file_extension": ".py",
   "mimetype": "text/x-python",
   "name": "python",
   "nbconvert_exporter": "python",
   "pygments_lexer": "ipython3",
   "version": "3.9.13"
  }
 },
 "nbformat": 4,
 "nbformat_minor": 5
}
